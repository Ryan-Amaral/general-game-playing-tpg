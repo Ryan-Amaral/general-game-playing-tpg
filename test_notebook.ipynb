{
 "cells": [
  {
   "cell_type": "code",
   "execution_count": 1,
   "metadata": {
    "collapsed": true
   },
   "outputs": [],
   "source": [
    "import gym\n",
    "import gym.spaces"
   ]
  },
  {
   "cell_type": "code",
   "execution_count": 2,
   "metadata": {
    "collapsed": true
   },
   "outputs": [],
   "source": [
    "# all of the titles we will be general game playing on\n",
    "gymEnvNames = ['Alien-v0','Asteroids-v0','Atlantis-v0','BankHeist-v0',\n",
    "               'BattleZone-v0','Bowling-v0','Boxing-v0','Centipede-v0',\n",
    "               'ChopperCommand-v0','DoubleDunk-v0','FishingDerby-v0',\n",
    "               'Freeway-v0','Frostbite-v0','Gravitar-v0','Hero-v0',\n",
    "               'IceHockey-v0','Jamesbond-v0','Kangaroo-v0','Krull-v0',\n",
    "               'KungFuMaster-v0','MsPacman-v0','PrivateEye-v0',\n",
    "               'RoadRunner-v0','Skiing-v0','Tennis-v0','TimePilot-v0',\n",
    "               'UpNDown-v0','Venture-v0','WizardOfWor-v0','Zaxxon-v0']"
   ]
  },
  {
   "cell_type": "code",
   "execution_count": 3,
   "metadata": {
    "collapsed": true
   },
   "outputs": [],
   "source": [
    "# test to see if faster to create new env everytime, or serialize, for mp\n",
    "import multiprocessing as mp\n",
    "import time\n",
    "\n",
    "# functions to test gym env access methods\n",
    "\n",
    "# just create new env every time\n",
    "def funCreate(envName):\n",
    "    tStart = time.time()\n",
    "    env = gym.make(envName)\n",
    "    env.close()\n",
    "    tEnd = (time.time() - tStart) * 1000\n",
    "    \n",
    "    return tEnd\n",
    "    \n",
    "# or load from a queue (serializes and deserializes)\n",
    "def funLoad(args):\n",
    "    eq = args[0]\n",
    "    qt = args[1]\n",
    "    \n",
    "    tStart = time.time()\n",
    "    env = eq.get()\n",
    "    eq.put(env)\n",
    "    tEnd = (time.time() - tStart) * 1000\n",
    "    \n",
    "    qt.append(tEnd)"
   ]
  },
  {
   "cell_type": "code",
   "execution_count": 4,
   "metadata": {
    "scrolled": true
   },
   "outputs": [
    {
     "name": "stderr",
     "output_type": "stream",
     "text": [
      "Process ForkPoolWorker-1:\n",
      "Traceback (most recent call last):\n",
      "  File \"/home/ryan/anaconda3/envs/oaigym3/lib/python3.6/multiprocessing/process.py\", line 258, in _bootstrap\n",
      "    self.run()\n",
      "  File \"/home/ryan/anaconda3/envs/oaigym3/lib/python3.6/multiprocessing/process.py\", line 93, in run\n",
      "    self._target(*self._args, **self._kwargs)\n",
      "  File \"/home/ryan/anaconda3/envs/oaigym3/lib/python3.6/multiprocessing/pool.py\", line 108, in worker\n",
      "    task = get()\n",
      "  File \"/home/ryan/anaconda3/envs/oaigym3/lib/python3.6/multiprocessing/queues.py\", line 335, in get\n",
      "    res = self._reader.recv_bytes()\n",
      "  File \"/home/ryan/anaconda3/envs/oaigym3/lib/python3.6/multiprocessing/connection.py\", line 216, in recv_bytes\n",
      "    buf = self._recv_bytes(maxlength)\n",
      "  File \"/home/ryan/anaconda3/envs/oaigym3/lib/python3.6/multiprocessing/connection.py\", line 407, in _recv_bytes\n",
      "    buf = self._recv(4)\n",
      "  File \"/home/ryan/anaconda3/envs/oaigym3/lib/python3.6/multiprocessing/connection.py\", line 379, in _recv\n",
      "    chunk = read(handle, remaining)\n",
      "KeyboardInterrupt\n"
     ]
    }
   ],
   "source": [
    "# track times to create / use queue with multiprocessing\n",
    "createTimes = []\n",
    "queueTimes = []\n",
    "\n",
    "# create\n",
    "for envName in gymEnvNames:\n",
    "    for i in range(10): # repeat 10 times for stochasticity\n",
    "        createTimes.append(funCreate(envName))\n",
    "\n",
    "# create all envs at once, don't count time, because it would only happen\n",
    "# once, at the very begining of a huge run\n",
    "envs = []\n",
    "for envName in gymEnvNames:\n",
    "    envs.append(gym.make(envName))\n",
    "# use queue / load\n",
    "pool = mp.Pool(processes=1)\n",
    "m = mp.Manager()\n",
    "qTimes = m.list()\n",
    "for env in envs:\n",
    "    envQueue = m.Queue()\n",
    "    envQueue.put(env)\n",
    "    pool.map(funLoad, [(envQueue, qTimes)]*10) # repeat 10 times\n",
    "    \n",
    "for time in qTimes: # put in normal list\n",
    "    queueTimes.append(time)"
   ]
  },
  {
   "cell_type": "code",
   "execution_count": 6,
   "metadata": {},
   "outputs": [
    {
     "data": {
      "image/png": "[encoded data removed]",
      "text/plain": [
       "<Figure size 432x288 with 1 Axes>"
      ]
     },
     "metadata": {},
     "output_type": "display_data"
    }
   ],
   "source": [
    "# plot results\n",
    "import matplotlib.pyplot as plt\n",
    "plt.boxplot([createTimes,queueTimes], labels=['Create', 'Queue'])\n",
    "plt.title('Comparison of Creating new Environments vs Loading from Queue')\n",
    "plt.xlabel('Method of Environment Obtaining')\n",
    "plt.ylabel('Milliseconds')\n",
    "plt.show()"
   ]
  },
  {
   "cell_type": "markdown",
   "metadata": {},
   "source": [
    "So it is certainly much faster to create a new environment (for these Atari ones at-least) than to pass it over in a queue for multiprocessing. Though episodes are so long it doesn't matter too much."
   ]
  },
  {
   "cell_type": "code",
   "execution_count": 14,
   "metadata": {},
   "outputs": [
    {
     "data": {
      "image/png": "[encoded data removed]",
      "text/plain": [
       "<Figure size 432x288 with 1 Axes>"
      ]
     },
     "metadata": {},
     "output_type": "display_data"
    },
    {
     "data": {
      "image/png": "[encoded data removed]",
      "text/plain": [
       "<Figure size 432x288 with 1 Axes>"
      ]
     },
     "metadata": {},
     "output_type": "display_data"
    }
   ],
   "source": [
    "%matplotlib inline\n",
    "\n",
    "# see a short bit of each game to see what it looks like\n",
    "\n",
    "from IPython.display import clear_output\n",
    "from IPython import display\n",
    "\n",
    "# how to render in Jupyter: \n",
    "# https://stackoverflow.com/questions/40195740/how-to-run-openai-gym-render-over-a-server\n",
    "# https://www.youtube.com/watch?v=O84KgRt6AJI\n",
    "def show_state(env, step=0, name='', info=''):\n",
    "    plt.figure(3)\n",
    "    plt.clf()\n",
    "    plt.imshow(env.render(mode='rgb_array'))\n",
    "    plt.title(\"%s | Step: %d %s\" % (name, step, info))\n",
    "    plt.axis('off')\n",
    "\n",
    "    display.clear_output(wait=True)\n",
    "    display.display(plt.gcf())\n",
    "    \n",
    "\n",
    "for envName in gymEnvNames:\n",
    "    env = gym.make(envName)\n",
    "    env.reset()\n",
    "    score = 0\n",
    "    for i in range(100): # run episodes that last 200 frames\n",
    "        show_state(env, i, envName, 'Score: ' + str(score))\n",
    "        _, reward, isDone, _ = env.step(env.action_space.sample())\n",
    "        score += reward\n",
    "        if isDone:\n",
    "            break\n",
    "            \n",
    "    env.close()"
   ]
  },
  {
   "cell_type": "code",
   "execution_count": 11,
   "metadata": {},
   "outputs": [
    {
     "name": "stdout",
     "output_type": "stream",
     "text": [
      "Discrete(18)\n",
      "Discrete(14)\n",
      "Discrete(4)\n",
      "Discrete(18)\n",
      "Discrete(18)\n",
      "Discrete(6)\n",
      "Discrete(18)\n",
      "Discrete(18)\n",
      "Discrete(18)\n",
      "Discrete(18)\n",
      "Discrete(18)\n",
      "Discrete(3)\n",
      "Discrete(18)\n",
      "Discrete(18)\n",
      "Discrete(18)\n",
      "Discrete(18)\n",
      "Discrete(18)\n",
      "Discrete(18)\n",
      "Discrete(18)\n",
      "Discrete(14)\n",
      "Discrete(9)\n",
      "Discrete(18)\n",
      "Discrete(18)\n",
      "Discrete(3)\n",
      "Discrete(18)\n",
      "Discrete(10)\n",
      "Discrete(6)\n",
      "Discrete(18)\n",
      "Discrete(10)\n",
      "Discrete(18)\n"
     ]
    }
   ],
   "source": [
    "# see action space to chose largest\n",
    "for envName in gymEnvNames:\n",
    "    env = gym.make(envName)\n",
    "    print(env.action_space)\n",
    "    \n",
    "# 18 is the size"
   ]
  },
  {
   "cell_type": "code",
   "execution_count": null,
   "metadata": {
    "collapsed": true
   },
   "outputs": [],
   "source": []
  }
 ],
 "metadata": {
  "kernelspec": {
   "display_name": "Python [conda env:oaigym]",
   "language": "python",
   "name": "conda-env-oaigym-py"
  },
  "language_info": {
   "codemirror_mode": {
    "name": "ipython",
    "version": 3
   },
   "file_extension": ".py",
   "mimetype": "text/x-python",
   "name": "python",
   "nbconvert_exporter": "python",
   "pygments_lexer": "ipython3",
   "version": "3.6.4"
  }
 },
 "nbformat": 4,
 "nbformat_minor": 2
}
