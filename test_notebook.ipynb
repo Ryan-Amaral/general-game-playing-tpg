{
 "cells": [
  {
   "cell_type": "code",
   "execution_count": 7,
   "metadata": {},
   "outputs": [],
   "source": [
    "import gym"
   ]
  },
  {
   "cell_type": "code",
   "execution_count": 8,
   "metadata": {},
   "outputs": [],
   "source": [
    "# all of the titles we will be general game playing on\n",
    "gymEnvNames = ['Alien-v0','Asteroids-v0','Atlantis-v0','BankHeist-v0',\n",
    "               'BattleZone-v0','Bowling-v0','Boxing-v0','Centipede-v0',\n",
    "               'ChopperCommand-v0','DoubleDunk-v0','FishingDerby-v0',\n",
    "               'Freeway-v0','Frostbite-v0','Gravitar-v0','Hero-v0',\n",
    "               'IceHockey-v0','Jamesbond-v0','Kangaroo-v0','Krull-v0',\n",
    "               'KungFuMaster-v0','MsPacman-v0','PrivateEye-v0',\n",
    "               'RoadRunner-v0','Skiing-v0','Tennis-v0','TimePilot-v0',\n",
    "               'UpNDown-v0','Venture-v0','WizardOfWor-v0','Zaxxon-v0']"
   ]
  },
  {
   "cell_type": "code",
   "execution_count": 12,
   "metadata": {},
   "outputs": [],
   "source": [
    "# test to see if faster to create new env everytime, or serialize, for mp\n",
    "import multiprocessing as mp\n",
    "import time\n",
    "\n",
    "# functions to test gym env access methods\n",
    "\n",
    "# just create new env every time\n",
    "def funCreate(envName):\n",
    "    tStart = time.time()\n",
    "    env = gym.make(envName)\n",
    "    env.close()\n",
    "    tEnd = (time.time() - tStart) * 1000\n",
    "    \n",
    "    return tEnd\n",
    "    \n",
    "# or load from a queue (serializes and deserializes)\n",
    "def funLoad(args):\n",
    "    eq = args[0]\n",
    "    qt = args[1]\n",
    "    \n",
    "    tStart = time.time()\n",
    "    env = eq.get()\n",
    "    eq.put(env)\n",
    "    tEnd = (time.time() - tStart) * 1000\n",
    "    \n",
    "    qt.append(tEnd)"
   ]
  },
  {
   "cell_type": "code",
   "execution_count": 14,
   "metadata": {
    "scrolled": true
   },
   "outputs": [
    {
     "name": "stdout",
     "output_type": "stream",
     "text": [
      "on envName: Alien-v0\n"
     ]
    },
    {
     "name": "stderr",
     "output_type": "stream",
     "text": [
      "/home/ryan/git/gym/gym/__init__.py:22: UserWarning: DEPRECATION WARNING: to improve load times, gym no longer automatically loads gym.spaces. Please run \"import gym.spaces\" to load gym.spaces on your own. This warning will turn into an error in a future version of gym.\n",
      "  warnings.warn('DEPRECATION WARNING: to improve load times, gym no longer automatically loads gym.spaces. Please run \"import gym.spaces\" to load gym.spaces on your own. This warning will turn into an error in a future version of gym.')\n"
     ]
    },
    {
     "name": "stdout",
     "output_type": "stream",
     "text": [
      "on envName: Asteroids-v0\n",
      "on envName: Atlantis-v0\n",
      "on envName: BankHeist-v0\n",
      "on envName: BattleZone-v0\n",
      "on envName: Bowling-v0\n",
      "on envName: Boxing-v0\n",
      "on envName: Centipede-v0\n",
      "on envName: ChopperCommand-v0\n",
      "on envName: DoubleDunk-v0\n",
      "on envName: FishingDerby-v0\n",
      "on envName: Freeway-v0\n",
      "on envName: Frostbite-v0\n",
      "on envName: Gravitar-v0\n",
      "on envName: Hero-v0\n",
      "on envName: IceHockey-v0\n",
      "on envName: Jamesbond-v0\n",
      "on envName: Kangaroo-v0\n",
      "on envName: Krull-v0\n",
      "on envName: KungFuMaster-v0\n",
      "on envName: MsPacman-v0\n",
      "on envName: PrivateEye-v0\n",
      "on envName: RoadRunner-v0\n",
      "on envName: Skiing-v0\n",
      "on envName: Tennis-v0\n",
      "on envName: TimePilot-v0\n",
      "on envName: UpNDown-v0\n",
      "on envName: Venture-v0\n",
      "on envName: WizardOfWor-v0\n",
      "on envName: Zaxxon-v0\n",
      "on env: <AtariEnv<Alien-v0>>\n",
      "on env: <AtariEnv<Asteroids-v0>>\n",
      "on env: <AtariEnv<Atlantis-v0>>\n",
      "on env: <AtariEnv<BankHeist-v0>>\n",
      "on env: <AtariEnv<BattleZone-v0>>\n",
      "on env: <AtariEnv<Bowling-v0>>\n",
      "on env: <AtariEnv<Boxing-v0>>\n",
      "on env: <AtariEnv<Centipede-v0>>\n",
      "on env: <AtariEnv<ChopperCommand-v0>>\n",
      "on env: <AtariEnv<DoubleDunk-v0>>\n",
      "on env: <AtariEnv<FishingDerby-v0>>\n",
      "on env: <AtariEnv<Freeway-v0>>\n",
      "on env: <AtariEnv<Frostbite-v0>>\n",
      "on env: <AtariEnv<Gravitar-v0>>\n",
      "on env: <AtariEnv<Hero-v0>>\n",
      "on env: <AtariEnv<IceHockey-v0>>\n",
      "on env: <AtariEnv<Jamesbond-v0>>\n",
      "on env: <AtariEnv<Kangaroo-v0>>\n",
      "on env: <AtariEnv<Krull-v0>>\n",
      "on env: <AtariEnv<KungFuMaster-v0>>\n",
      "on env: <AtariEnv<MsPacman-v0>>\n",
      "on env: <AtariEnv<PrivateEye-v0>>\n",
      "on env: <AtariEnv<RoadRunner-v0>>\n",
      "on env: <AtariEnv<Skiing-v0>>\n",
      "on env: <AtariEnv<Tennis-v0>>\n",
      "on env: <AtariEnv<TimePilot-v0>>\n",
      "on env: <AtariEnv<UpNDown-v0>>\n",
      "on env: <AtariEnv<Venture-v0>>\n",
      "on env: <AtariEnv<WizardOfWor-v0>>\n",
      "on env: <AtariEnv<Zaxxon-v0>>\n"
     ]
    }
   ],
   "source": [
    "# track times to create / use queue with multiprocessing\n",
    "createTimes = []\n",
    "queueTimes = []\n",
    "\n",
    "# create\n",
    "for envName in gymEnvNames:\n",
    "    print('on envName:', envName)\n",
    "    for i in range(10): # repeat 10 times for stochasticity\n",
    "        createTimes.append(funCreate(envName))\n",
    "\n",
    "# create all envs at once, don't count time, because it would only happen\n",
    "# once, at the very begining of a huge run\n",
    "envs = []\n",
    "for envName in gymEnvNames:\n",
    "    envs.append(gym.make(envName))\n",
    "# use queue / load\n",
    "pool = mp.Pool(processes=1)\n",
    "m = mp.Manager()\n",
    "qTimes = m.list()\n",
    "for env in envs:\n",
    "    print('on env:', env.env)\n",
    "    envQueue = m.Queue()\n",
    "    envQueue.put(env)\n",
    "    pool.map(funLoad, [(envQueue, qTimes)]*10) # repeat 10 times\n",
    "    \n",
    "for time in qTimes: # put in normal list\n",
    "    queueTimes.append(time)"
   ]
  },
  {
   "cell_type": "code",
   "execution_count": 18,
   "metadata": {},
   "outputs": [
    {
     "data": {
      "image/png": "[encoded data removed]",
      "text/plain": [
       "<Figure size 432x288 with 1 Axes>"
      ]
     },
     "metadata": {},
     "output_type": "display_data"
    }
   ],
   "source": [
    "# plot results\n",
    "import matplotlib.pyplot as plt\n",
    "plt.boxplot([createTimes,queueTimes], labels=['Create', 'Queue'])\n",
    "plt.show()"
   ]
  },
  {
   "cell_type": "markdown",
   "metadata": {},
   "source": [
    "So it is certainly much faster to create a new environment (for these Atari ones at-least) than to pass it over in a queue for multiprocessing. Though episodes are so long it doesn't matter too much."
   ]
  },
  {
   "cell_type": "code",
   "execution_count": null,
   "metadata": {},
   "outputs": [],
   "source": []
  }
 ],
 "metadata": {
  "kernelspec": {
   "display_name": "Python [conda env:oaigym3]",
   "language": "python",
   "name": "conda-env-oaigym3-py"
  },
  "language_info": {
   "codemirror_mode": {
    "name": "ipython",
    "version": 3
   },
   "file_extension": ".py",
   "mimetype": "text/x-python",
   "name": "python",
   "nbconvert_exporter": "python",
   "pygments_lexer": "ipython3",
   "version": "3.6.6"
  }
 },
 "nbformat": 4,
 "nbformat_minor": 2
}
