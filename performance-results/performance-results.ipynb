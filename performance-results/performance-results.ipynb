{
 "cells": [
  {
   "cell_type": "code",
   "execution_count": 1,
   "metadata": {
    "collapsed": true
   },
   "outputs": [],
   "source": [
    "import pstats\n",
    "import pandas as pd\n",
    "import matplotlib.pyplot as plt\n",
    "import numpy as np"
   ]
  },
  {
   "cell_type": "code",
   "execution_count": 2,
   "metadata": {
    "scrolled": false
   },
   "outputs": [
    {
     "name": "stdout",
     "output_type": "stream",
     "text": [
      "Mon Apr  1 19:01:35 2019    time-profile-2019-03-29-00-37.txt\n",
      "\n",
      "         169694912 function calls (169690843 primitive calls) in 84336.187 seconds\n",
      "\n",
      "   Ordered by: cumulative time\n",
      "   List reduced from 1135 to 10 due to restriction <10>\n",
      "\n",
      "   ncalls  tottime  percall  cumtime  percall filename:lineno(function)\n",
      "     64/1    0.001    0.000 84336.187 84336.187 {built-in method builtins.exec}\n",
      "        1    0.159    0.159 84336.187 84336.187 <string>:1(<module>)\n",
      "        1    0.523    0.523 84336.025 84336.025 ../general-game-playing-tpg/performance-test.py:54(runTpg)\n",
      "      300    0.013    0.000 83817.348  279.391 /home/the_ryan_amaral/anaconda3/lib/python3.7/multiprocessing/pool.py:263(map)\n",
      "      300    0.005    0.000 83817.299  279.391 /home/the_ryan_amaral/anaconda3/lib/python3.7/multiprocessing/pool.py:650(get)\n",
      "      300    0.002    0.000 83817.290  279.391 /home/the_ryan_amaral/anaconda3/lib/python3.7/multiprocessing/pool.py:647(wait)\n",
      "      300    0.006    0.000 83817.288  279.391 /home/the_ryan_amaral/anaconda3/lib/python3.7/threading.py:534(wait)\n",
      "      300    0.022    0.000 83817.278  279.391 /home/the_ryan_amaral/anaconda3/lib/python3.7/threading.py:264(wait)\n",
      "     1200 83817.251   69.848 83817.251   69.848 {method 'acquire' of '_thread.lock' objects}\n",
      "      300    9.776    0.033  494.807    1.649 /home/the_ryan_amaral/anaconda3/lib/python3.7/site-packages/tpg/tpg_trainer.py:538(evolve)\n",
      "\n",
      "\n"
     ]
    },
    {
     "data": {
      "text/plain": [
       "<pstats.Stats at 0x7f28f0db2e48>"
      ]
     },
     "execution_count": 2,
     "metadata": {},
     "output_type": "execute_result"
    }
   ],
   "source": [
    "p = pstats.Stats('time-profile-2019-03-29-00-37.txt')\n",
    "p.sort_stats('cumulative').print_stats(10)"
   ]
  },
  {
   "cell_type": "code",
   "execution_count": 3,
   "metadata": {},
   "outputs": [
    {
     "name": "stdout",
     "output_type": "stream",
     "text": [
      "Mon Apr  1 19:01:35 2019    time-profile-2019-03-30-02-22.txt\n",
      "\n",
      "         152520389 function calls (152515288 primitive calls) in 234352.261 seconds\n",
      "\n",
      "   Ordered by: cumulative time\n",
      "   List reduced from 1135 to 10 due to restriction <10>\n",
      "\n",
      "   ncalls  tottime  percall  cumtime  percall filename:lineno(function)\n",
      "     64/1    0.001    0.000 234352.261 234352.261 {built-in method builtins.exec}\n",
      "        1    0.175    0.175 234352.261 234352.261 <string>:1(<module>)\n",
      "        1    0.565    0.565 234352.084 234352.084 ../general-game-playing-tpg/performance-test.py:54(runTpg)\n",
      "      300    0.014    0.000 233889.388  779.631 /home/the_ryan_amaral/anaconda3/lib/python3.7/multiprocessing/pool.py:263(map)\n",
      "      300    0.005    0.000 233889.340  779.631 /home/the_ryan_amaral/anaconda3/lib/python3.7/multiprocessing/pool.py:650(get)\n",
      "      300    0.002    0.000 233889.329  779.631 /home/the_ryan_amaral/anaconda3/lib/python3.7/multiprocessing/pool.py:647(wait)\n",
      "      300    0.004    0.000 233889.327  779.631 /home/the_ryan_amaral/anaconda3/lib/python3.7/threading.py:534(wait)\n",
      "      300    0.022    0.000 233889.320  779.631 /home/the_ryan_amaral/anaconda3/lib/python3.7/threading.py:264(wait)\n",
      "     1200 233889.293  194.908 233889.293  194.908 {method 'acquire' of '_thread.lock' objects}\n",
      "      300    9.063    0.030  445.265    1.484 /home/the_ryan_amaral/anaconda3/lib/python3.7/site-packages/tpg/tpg_trainer.py:538(evolve)\n",
      "\n",
      "\n"
     ]
    },
    {
     "data": {
      "text/plain": [
       "<pstats.Stats at 0x7f28f0ad5cc0>"
      ]
     },
     "execution_count": 3,
     "metadata": {},
     "output_type": "execute_result"
    }
   ],
   "source": [
    "p = pstats.Stats('time-profile-2019-03-30-02-22.txt')\n",
    "p.sort_stats('cumulative').print_stats(10)"
   ]
  },
  {
   "cell_type": "code",
   "execution_count": 16,
   "metadata": {},
   "outputs": [
    {
     "data": {
      "image/png": "[encoded data removed]",
      "text/plain": [
       "<Figure size 432x288 with 1 Axes>"
      ]
     },
     "metadata": {},
     "output_type": "display_data"
    }
   ],
   "source": [
    "dfNumba = pd.read_csv('tpg-log-2019-03-29-00-37.txt')\n",
    "dfNoNumba = pd.read_csv('tpg-log-2019-03-30-02-22.txt')\n",
    "\n",
    "timesNumba = []\n",
    "prevTimeNumba = 0\n",
    "timesNoNumba = []\n",
    "prevTimeNoNumba = 0\n",
    "for rowNumba, rowNoNumba in [(dfNumba.iloc[i], dfNoNumba.iloc[i]) for i in range(len(dfNumba))]:\n",
    "    timesNumba.append(rowNumba['hoursElapsed'] - prevTimeNumba)\n",
    "    prevTimeNumba = rowNumba['hoursElapsed']\n",
    "    \n",
    "    timesNoNumba.append(rowNoNumba['hoursElapsed'] - prevTimeNoNumba)\n",
    "    prevTimeNoNumba = rowNoNumba['hoursElapsed']\n",
    "    \n",
    "plt.boxplot([timesNumba, timesNoNumba], labels=['With Numba', 'Without Numba'])\n",
    "plt.ylim(0,.27)\n",
    "plt.title('Times Per Generation with vs without Numba')\n",
    "plt.xlabel('Run Type')\n",
    "plt.ylabel('Hours')\n",
    "plt.show()"
   ]
  },
  {
   "cell_type": "code",
   "execution_count": 10,
   "metadata": {},
   "outputs": [
    {
     "name": "stdout",
     "output_type": "stream",
     "text": [
      "Total Hours with Numba: 23.42667371988297\n",
      "Total Hours without Numba: 65.09780094285807\n",
      "Mean Hours with Numba: 0.0780889123996099\n",
      "Mean Hours without Numba: 0.21699266980952692\n"
     ]
    }
   ],
   "source": [
    "print('Total Hours with Numba: ' + str(dfNumba.iloc[-1,1]))\n",
    "print('Total Hours without Numba: ' + str(dfNoNumba.iloc[-1,1]))\n",
    "print('Mean Hours with Numba: ' + str(dfNumba.iloc[-1,1]/300))\n",
    "print('Mean Hours without Numba: ' + str(dfNoNumba.iloc[-1,1]/300))"
   ]
  },
  {
   "cell_type": "code",
   "execution_count": 12,
   "metadata": {
    "collapsed": true
   },
   "outputs": [],
   "source": [
    "from IPython.display import clear_output\n",
    "import gym\n",
    "# import to do training\n",
    "from tpg.tpg_trainer import TpgTrainer\n",
    "# import to run an agent (always needed)\n",
    "from tpg.tpg_agent import TpgAgent\n",
    "import pickle # save times (explained later)\n",
    "from timeit import default_timer as timer"
   ]
  },
  {
   "cell_type": "code",
   "execution_count": 5,
   "metadata": {
    "collapsed": true
   },
   "outputs": [],
   "source": [
    "# To transform pixel matrix to a single vector.\n",
    "def getState(inState):\n",
    "    # each row is all 1 color\n",
    "    rgbRows = np.reshape(inState,(len(inState[0])*len(inState), 3)).T\n",
    "\n",
    "    # add each with appropriate shifting\n",
    "    # get RRRRRRRR GGGGGGGG BBBBBBBB\n",
    "    return np.add(np.left_shift(rgbRows[0], 16),\n",
    "        np.add(np.left_shift(rgbRows[1], 8), rgbRows[2]))\n",
    "\n",
    "def runTestTpg():\n",
    "    env = gym.make('Boxing-v0') # make the environment\n",
    "    tstart = timer()\n",
    "    # first create an instance of the TpgTrainer\n",
    "    # this creates the whole population and everything\n",
    "    trainer = TpgTrainer(actions=range(env.action_space.n), teamPopSize=50)\n",
    "\n",
    "    curScores = [] # hold scores in a generation\n",
    "    summaryScores = [] # record score summaries for each gen (min, max, avg)\n",
    "    times = []\n",
    "\n",
    "    # 3 generations (super small, just for action timing)\n",
    "    for gen in range(3): # generation loop\n",
    "        curScores = [] # new list per gen\n",
    "        print('New Gen: ' + str(gen))\n",
    "        while True: # loop to go through agents\n",
    "            teamNum = trainer.remainingAgents()\n",
    "            agent = trainer.getNextAgent()\n",
    "            if agent is None:\n",
    "                break # no more agents, so proceed to next gen\n",
    "\n",
    "            state = env.reset() # get initial state and prep environment\n",
    "            score = 0\n",
    "            for i in range(18000): # run episodes that last 18000 frames\n",
    "\n",
    "                # must transform to at-least int-32 (for my getState to bitshift correctly)\n",
    "                mstate = getState(np.array(state, dtype=np.int32))\n",
    "\n",
    "                start = timer()\n",
    "                act = agent.act(mstate, vizd=False) # get action from agent\n",
    "                times.append(timer()-start)\n",
    "\n",
    "                # feedback from env\n",
    "                state, reward, isDone, debug = env.step(act)\n",
    "                score += reward # accumulate reward in score\n",
    "                if isDone:\n",
    "                    break # end early if losing state\n",
    "\n",
    "            #print(np.unique(agent.screenIndexed, return_counts=True))\n",
    "            agent.reward(score) # must reward agent (if didn't already score)\n",
    "            print(str(teamNum) + ': ' + str(score))\n",
    "            #print(np.unique(agent.screenIndexed, return_counts=True))\n",
    "            curScores.append(score) # store score\n",
    "\n",
    "        # at end of generation, make summary of scores\n",
    "        summaryScores.append((min(curScores), max(curScores),\n",
    "                        sum(curScores)/len(curScores))) # min, max, avg\n",
    "        trainer.evolve()\n",
    "\n",
    "    clear_output(wait=True)\n",
    "    print('Time Taken (Seconds): ' + str(timer()- tstart))\n",
    "    print('Results:\\nMin, Max, Avg')\n",
    "    for result in summaryScores:\n",
    "        print(result[0],result[1],result[2])\n",
    "        \n",
    "    return times"
   ]
  },
  {
   "cell_type": "code",
   "execution_count": 30,
   "metadata": {
    "scrolled": true
   },
   "outputs": [
    {
     "name": "stdout",
     "output_type": "stream",
     "text": [
      "Time Taken (Seconds): 281.34087297099904\n",
      "Results:\n",
      "Min, Max, Avg\n",
      "-100.0 0.0 -44.18\n",
      "-100.0 1.0 -37.32608695652174\n",
      "-100.0 1.0 -27.55\n"
     ]
    }
   ],
   "source": [
    "# with Numba\n",
    "#numbaTimes = runTestTpg()\n",
    "#pickle.dump(numbaTimes, open('timesNumba.pkl', 'wb'))\n",
    "\"\"\" Cell Output\n",
    "Time Taken (Seconds): 281.34087297099904\n",
    "Results:\n",
    "Min, Max, Avg\n",
    "-100.0 0.0 -44.18\n",
    "-100.0 1.0 -37.32608695652174\n",
    "-100.0 1.0 -27.55\n",
    "\"\"\""
   ]
  },
  {
   "cell_type": "code",
   "execution_count": 6,
   "metadata": {
    "scrolled": true
   },
   "outputs": [
    {
     "name": "stdout",
     "output_type": "stream",
     "text": [
      "Time Taken (Seconds): 481.2702215889949\n",
      "Results:\n",
      "Min, Max, Avg\n",
      "-100.0 -12.0 -50.5\n",
      "-100.0 -2.0 -37.333333333333336\n",
      "-100.0 -2.0 -33.225\n"
     ]
    }
   ],
   "source": [
    "# without Numba (to run this I just manually commented out #njit on the \n",
    "# runProgram function in the TPG learner file, then restarted the kernel,\n",
    "# which is why the runs are saved to files despite being quick.)\n",
    "#numbalessTimes = runTestTpg()\n",
    "#pickle.dump(numbalessTimes, open('timesNumbaless.pkl', 'wb'))\n",
    "\"\"\" Cell Output\n",
    "Time Taken (Seconds): 481.2702215889949\n",
    "Results:\n",
    "Min, Max, Avg\n",
    "-100.0 -12.0 -50.5\n",
    "-100.0 -2.0 -37.333333333333336\n",
    "-100.0 -2.0 -33.225\n",
    "\"\"\""
   ]
  },
  {
   "cell_type": "code",
   "execution_count": 15,
   "metadata": {},
   "outputs": [
    {
     "data": {
      "image/png": "[encoded data removed]",
      "text/plain": [
       "<Figure size 432x288 with 1 Axes>"
      ]
     },
     "metadata": {},
     "output_type": "display_data"
    }
   ],
   "source": [
    "timesNumba = pickle.load(open('timesNumba.pkl', 'rb'))\n",
    "timesNumbaless = pickle.load(open('timesNumbaless.pkl', 'rb'))\n",
    "\n",
    "plt.boxplot([timesNumba, timesNumbaless], labels=['With Numba', 'Without Numba'],showfliers=False)\n",
    "plt.ylim(0,.0014)\n",
    "plt.title('Action Selection Times with vs without Numba')\n",
    "plt.xlabel('Run Type')\n",
    "plt.ylabel('Seconds')\n",
    "plt.show()"
   ]
  },
  {
   "cell_type": "code",
   "execution_count": 18,
   "metadata": {},
   "outputs": [
    {
     "name": "stdout",
     "output_type": "stream",
     "text": [
      "Mean Action Selection Time with Numba: \n",
      "0.000031\n",
      "Mean Action Selection Time without Numba: \n",
      "0.000679\n"
     ]
    }
   ],
   "source": [
    "print('Mean Action Selection Time with Numba: \\n' + str('%f'%(sum(timesNumba)/len(timesNumba))))\n",
    "print('Mean Action Selection Time without Numba: \\n' + str('%f'%(sum(timesNumbaless)/len(timesNumbaless))))"
   ]
  },
  {
   "cell_type": "code",
   "execution_count": null,
   "metadata": {
    "collapsed": true
   },
   "outputs": [],
   "source": []
  }
 ],
 "metadata": {
  "kernelspec": {
   "display_name": "Python [conda env:oaigym]",
   "language": "python",
   "name": "conda-env-oaigym-py"
  },
  "language_info": {
   "codemirror_mode": {
    "name": "ipython",
    "version": 3
   },
   "file_extension": ".py",
   "mimetype": "text/x-python",
   "name": "python",
   "nbconvert_exporter": "python",
   "pygments_lexer": "ipython3",
   "version": "3.6.4"
  }
 },
 "nbformat": 4,
 "nbformat_minor": 2
}
