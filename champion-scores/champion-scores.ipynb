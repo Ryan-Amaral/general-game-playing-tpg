{
 "cells": [
  {
   "cell_type": "code",
   "execution_count": 1,
   "metadata": {},
   "outputs": [],
   "source": [
    "import pandas as pd\n",
    "import matplotlib.pyplot as plt\n",
    "import numpy as np"
   ]
  },
  {
   "cell_type": "code",
   "execution_count": 2,
   "metadata": {},
   "outputs": [],
   "source": [
    "# for benchmarks\n",
    "\n",
    "# on 18000 frame episodes, average of 10 episodes\n",
    "soloRandomScores = {\n",
    "     'Alien-v0': 164.0,'Asteroids-v0': 815.0,'Atlantis-v0': 21100.0,'BankHeist-v0': 17.0,\n",
    "     'BattleZone-v0': 3300.0,'Bowling-v0': 20.2,'Boxing-v0': 2.4,'Centipede-v0': 2229.7,\n",
    "     'ChopperCommand-v0': 660.0,'DoubleDunk-v0': -19.2,'FishingDerby-v0': -92.2,\n",
    "     'Freeway-v0': 0.0,'Frostbite-v0': 53.0,'Gravitar-v0': 310.0,'Hero-v0': 1217.5,\n",
    "     'IceHockey-v0': -10.9,'Jamesbond-v0': 25.0,'Kangaroo-v0': 60.0,'Krull-v0': 1479.8,\n",
    "     'KungFuMaster-v0': 760.0,'MsPacman-v0': 246.0,'PrivateEye-v0': 40.0,\n",
    "     'RoadRunner-v0': 20.0, 'Skiing-v0': -16270.7, 'Tennis-v0': -24.0,'TimePilot-v0': 3190.0,\n",
    "     'UpNDown-v0': 422.0,'Venture-v0': 0.0,'WizardOfWor-v0': 750.0,'Zaxxon-v0': 0.0}\n",
    "\n",
    "soloTpgScores = {\n",
    "     'Alien-v0': 3382.7,'Asteroids-v0': 3050.7,'Atlantis-v0': 89653,'BankHeist-v0': 1051,\n",
    "     'BattleZone-v0': 47233.4,'Bowling-v0': 223.7,'Boxing-v0': 76.5,'Centipede-v0': 34731.7,\n",
    "     'ChopperCommand-v0': 7070,'DoubleDunk-v0': 2,'FishingDerby-v0': 49,\n",
    "     'Freeway-v0': 28.9,'Frostbite-v0': 8144.4,'Gravitar-v0': 786.7,'Hero-v0': 16545.4,\n",
    "     'IceHockey-v0': 10,'Jamesbond-v0': 3120,'Kangaroo-v0': 14780,'Krull-v0': 12850.4,\n",
    "     'KungFuMaster-v0': 43353.4,'MsPacman-v0': 5156,'PrivateEye-v0': 15028.3,\n",
    "     'RoadRunner-v0': 17410, 'Skiing-v0': 0, 'Tennis-v0': 1,'TimePilot-v0': 13540,\n",
    "     'RoadRunner-v0': 17410,'Tennis-v0': 0,'TimePilot-v0': 13540,\n",
    "     'UpNDown-v0': 34416,'Venture-v0': 576.7,'WizardOfWor-v0': 5196.7,'Zaxxon-v0': 6233.4}"
   ]
  },
  {
   "cell_type": "code",
   "execution_count": 6,
   "metadata": {},
   "outputs": [
    {
     "data": {
      "image/png": "[encoded data removed]",
      "text/plain": [
       "<Figure size 432x288 with 1 Axes>"
      ]
     },
     "metadata": {},
     "output_type": "display_data"
    }
   ],
   "source": [
    "df = pd.read_csv('15-shrink-vir.txt')\n",
    "\n",
    "# scores distributions normalized to random and solo tpg\n",
    "df = df[df.tpgGen==300]\n",
    "\n",
    "df.head()\n",
    "\n",
    "scoreDists = []\n",
    "for i in range(len(df)):\n",
    "    scoreDists.append([])\n",
    "    for j in range(4,19):\n",
    "        scoreDists[i].append(\n",
    "            ((df.iloc[i,j] - soloRandomScores[df.columns[j][5:]]) /\n",
    "             (soloTpgScores[df.columns[j][5:]] - \n",
    "                  soloRandomScores[df.columns[j][5:]])).tolist())\n",
    "        \n",
    "plt.boxplot(scoreDists)\n",
    "plt.show()"
   ]
  },
  {
   "cell_type": "code",
   "execution_count": 5,
   "metadata": {},
   "outputs": [
    {
     "data": {
      "image/png": "[encoded data removed]",
      "text/plain": [
       "<Figure size 432x288 with 1 Axes>"
      ]
     },
     "metadata": {},
     "output_type": "display_data"
    }
   ],
   "source": [
    "df = pd.read_csv('15-shrink-novir.txt')\n",
    "\n",
    "# scores distributions normalized to random and solo tpg\n",
    "df = df[df.tpgGen==300]\n",
    "\n",
    "scoreDists = []\n",
    "for i in range(len(df)):\n",
    "    scoreDists.append([])\n",
    "    for j in range(4,19):\n",
    "        scoreDists[i].append(\n",
    "            ((df.iloc[i,j] - soloRandomScores[df.columns[j][5:]]) /\n",
    "             (soloTpgScores[df.columns[j][5:]] - \n",
    "                  soloRandomScores[df.columns[j][5:]])).tolist())\n",
    "        \n",
    "plt.boxplot(scoreDists)\n",
    "plt.show()"
   ]
  },
  {
   "cell_type": "code",
   "execution_count": 20,
   "metadata": {},
   "outputs": [
    {
     "data": {
      "text/plain": [
       "[[]]"
      ]
     },
     "execution_count": 20,
     "metadata": {},
     "output_type": "execute_result"
    }
   ],
   "source": []
  },
  {
   "cell_type": "code",
   "execution_count": null,
   "metadata": {},
   "outputs": [],
   "source": []
  }
 ],
 "metadata": {
  "kernelspec": {
   "display_name": "Python [conda env:oaigym3]",
   "language": "python",
   "name": "conda-env-oaigym3-py"
  },
  "language_info": {
   "codemirror_mode": {
    "name": "ipython",
    "version": 3
   },
   "file_extension": ".py",
   "mimetype": "text/x-python",
   "name": "python",
   "nbconvert_exporter": "python",
   "pygments_lexer": "ipython3",
   "version": "3.6.6"
  }
 },
 "nbformat": 4,
 "nbformat_minor": 2
}
