{
 "cells": [
  {
   "cell_type": "code",
   "execution_count": 32,
   "metadata": {},
   "outputs": [],
   "source": [
    "import pandas as pd\n",
    "import matplotlib.pyplot as plt\n",
    "import numpy as np"
   ]
  },
  {
   "cell_type": "code",
   "execution_count": 33,
   "metadata": {},
   "outputs": [],
   "source": [
    "# for benchmarks\n",
    "\n",
    "# on 1000 frame episodes, average of 20 episodes\n",
    "soloRandomScores = {\n",
    "     'Alien-v0': 163.0,'Asteroids-v0': 745.0,'Atlantis-v0': 9270.0,'BankHeist-v0': 15.5,\n",
    "     'BattleZone-v0': 1450.0,'Bowling-v0': 8.05,'Boxing-v0': -3.45,'Centipede-v0': 2107.75,\n",
    "     'ChopperCommand-v0': 710.0,'DoubleDunk-v0': -5.6,'FishingDerby-v0': -40.85,\n",
    "     'Freeway-v0': 0.0,'Frostbite-v0': 67.5,'Gravitar-v0': 180.0,'Hero-v0': 533.25,\n",
    "     'IceHockey-v0': -2.7,'Jamesbond-v0': 27.5,'Kangaroo-v0': 60.0,'Krull-v0': 639.45,\n",
    "     'KungFuMaster-v0': 440.0,'MsPacman-v0': 188.5,'PrivateEye-v0': 25.0,\n",
    "     'RoadRunner-v0': 15.0, 'Skiing-v0': 0, 'Tennis-v0': -10.5,'TimePilot-v0': 520.0,\n",
    "     'UpNDown-v0': 400.5,'Venture-v0': 0.0,'WizardOfWor-v0': 335.0,'Zaxxon-v0': 20.0}\n",
    "\n",
    "soloTpgScores = {\n",
    "     'Alien-v0': 3382.7,'Asteroids-v0': 3050.7,'Atlantis-v0': 89653,'BankHeist-v0': 1051,\n",
    "     'BattleZone-v0': 47233.4,'Bowling-v0': 223.7,'Boxing-v0': 76.5,'Centipede-v0': 34731.7,\n",
    "     'ChopperCommand-v0': 7070,'DoubleDunk-v0': 2,'FishingDerby-v0': 49,\n",
    "     'Freeway-v0': 28.9,'Frostbite-v0': 8144.4,'Gravitar-v0': 786.7,'Hero-v0': 16545.4,\n",
    "     'IceHockey-v0': 10,'Jamesbond-v0': 3120,'Kangaroo-v0': 14780,'Krull-v0': 12850.4,\n",
    "     'KungFuMaster-v0': 43353.4,'MsPacman-v0': 5156,'PrivateEye-v0': 15028.3,\n",
    "     'RoadRunner-v0': 17410, 'Skiing-v0': 0, 'Tennis-v0': 1,'TimePilot-v0': 13540,\n",
    "     'RoadRunner-v0': 17410,'Tennis-v0': 0,'TimePilot-v0': 13540,\n",
    "     'UpNDown-v0': 34416,'Venture-v0': 576.7,'WizardOfWor-v0': 5196.7,'Zaxxon-v0': 6233.4}"
   ]
  },
  {
   "cell_type": "code",
   "execution_count": 34,
   "metadata": {},
   "outputs": [
    {
     "name": "stderr",
     "output_type": "stream",
     "text": [
      "/home/ryan/anaconda3/envs/oaigym3/lib/python3.6/site-packages/ipykernel/__main__.py:13: RuntimeWarning: divide by zero encountered in double_scalars\n"
     ]
    },
    {
     "data": {
      "image/png": "[encoded data removed]",
      "text/plain": [
       "<Figure size 432x288 with 1 Axes>"
      ]
     },
     "metadata": {},
     "output_type": "display_data"
    }
   ],
   "source": [
    "df = pd.read_csv('30-noshrink.txt')\n",
    "\n",
    "# scores distributions normalized to random and solo tpg\n",
    "df = df[df.tpgGen==675]\n",
    "\n",
    "scoreDists = []\n",
    "for i in range(len(df)):\n",
    "    scoreDists.append([])\n",
    "    for j in range(4,34):\n",
    "        scoreDists[i].append(\n",
    "            ((df.iloc[i,j] - soloRandomScores[df.columns[j][5:]]) /\n",
    "             (soloTpgScores[df.columns[j][5:]] - \n",
    "                  soloRandomScores[df.columns[j][5:]])).tolist())\n",
    "        \n",
    "plt.boxplot(scoreDists)\n",
    "plt.show()"
   ]
  },
  {
   "cell_type": "code",
   "execution_count": 35,
   "metadata": {},
   "outputs": [
    {
     "data": {
      "image/png": "[encoded data removed]",
      "text/plain": [
       "<Figure size 432x288 with 1 Axes>"
      ]
     },
     "metadata": {},
     "output_type": "display_data"
    }
   ],
   "source": [
    "df = pd.read_csv('30-shrink.txt')\n",
    "\n",
    "# scores distributions normalized to random and solo tpg\n",
    "df = df[df.tpgGen==675]\n",
    "\n",
    "scoreDists = []\n",
    "for i in range(len(df)):\n",
    "    scoreDists.append([])\n",
    "    for j in range(4,34):\n",
    "        scoreDists[i].append(\n",
    "            ((df.iloc[i,j] - soloRandomScores[df.columns[j][5:]]) /\n",
    "             (soloTpgScores[df.columns[j][5:]] - \n",
    "                  soloRandomScores[df.columns[j][5:]])).tolist())\n",
    "        \n",
    "plt.boxplot(scoreDists)\n",
    "plt.show()"
   ]
  },
  {
   "cell_type": "code",
   "execution_count": 43,
   "metadata": {},
   "outputs": [
    {
     "data": {
      "image/png": "[encoded data removed]",
      "text/plain": [
       "<Figure size 432x288 with 1 Axes>"
      ]
     },
     "metadata": {},
     "output_type": "display_data"
    }
   ],
   "source": [
    "df = pd.read_csv('15-noshrink.txt')\n",
    "\n",
    "# scores distributions normalized to random and solo tpg\n",
    "df = df[df.tpgGen==675]\n",
    "\n",
    "df.head()\n",
    "\n",
    "scoreDists = []\n",
    "for i in range(len(df)):\n",
    "    scoreDists.append([])\n",
    "    for j in range(4,19):\n",
    "        scoreDists[i].append(\n",
    "            ((df.iloc[i,j] - soloRandomScores[df.columns[j][5:]]) /\n",
    "             (soloTpgScores[df.columns[j][5:]] - \n",
    "                  soloRandomScores[df.columns[j][5:]])).tolist())\n",
    "        \n",
    "plt.boxplot(scoreDists)\n",
    "plt.show()"
   ]
  },
  {
   "cell_type": "code",
   "execution_count": 37,
   "metadata": {},
   "outputs": [
    {
     "data": {
      "image/png": "[encoded data removed]",
      "text/plain": [
       "<Figure size 432x288 with 1 Axes>"
      ]
     },
     "metadata": {},
     "output_type": "display_data"
    }
   ],
   "source": [
    "df = pd.read_csv('15-shrink.txt')\n",
    "\n",
    "# scores distributions normalized to random and solo tpg\n",
    "df = df[df.tpgGen==675]\n",
    "\n",
    "scoreDists = []\n",
    "for i in range(len(df)):\n",
    "    scoreDists.append([])\n",
    "    for j in range(4,19):\n",
    "        scoreDists[i].append(\n",
    "            ((df.iloc[i,j] - soloRandomScores[df.columns[j][5:]]) /\n",
    "             (soloTpgScores[df.columns[j][5:]] - \n",
    "                  soloRandomScores[df.columns[j][5:]])).tolist())\n",
    "        \n",
    "plt.boxplot(scoreDists)\n",
    "plt.show()"
   ]
  },
  {
   "cell_type": "code",
   "execution_count": 20,
   "metadata": {},
   "outputs": [
    {
     "data": {
      "text/plain": [
       "[[]]"
      ]
     },
     "execution_count": 20,
     "metadata": {},
     "output_type": "execute_result"
    }
   ],
   "source": []
  },
  {
   "cell_type": "code",
   "execution_count": null,
   "metadata": {},
   "outputs": [],
   "source": []
  }
 ],
 "metadata": {
  "kernelspec": {
   "display_name": "Python [conda env:oaigym3]",
   "language": "python",
   "name": "conda-env-oaigym3-py"
  },
  "language_info": {
   "codemirror_mode": {
    "name": "ipython",
    "version": 3
   },
   "file_extension": ".py",
   "mimetype": "text/x-python",
   "name": "python",
   "nbconvert_exporter": "python",
   "pygments_lexer": "ipython3",
   "version": "3.6.6"
  }
 },
 "nbformat": 4,
 "nbformat_minor": 2
}
