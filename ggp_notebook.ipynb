{
 "cells": [
  {
   "cell_type": "markdown",
   "metadata": {},
   "source": [
    "# General Game Playing\n",
    "This notebook contains the necessary python for doing General Game Playing with Tangled Program Graphs."
   ]
  },
  {
   "cell_type": "code",
   "execution_count": null,
   "metadata": {},
   "outputs": [],
   "source": [
    "# imports and helper methods\n",
    "from tpg.tpg_trainer import TpgTrainer\n",
    "from tpg.tpg_agent import TpgAgent\n",
    "import gym\n",
    "import gym.spaces\n",
    "\n",
    "\"\"\"\n",
    "inState is row x col x rgba list. This converts it to a 1D list. Because \n",
    "that is what TPG uses.\n",
    "\"\"\"\n",
    "def getState(inState):\n",
    "    outState = []\n",
    "    for row in inState:\n",
    "        for cell in row:\n",
    "            outState.append(cell[0]/8 + cell[1]*4 + cell[2]*128)\n",
    "    \n",
    "    return outState\n",
    "\n",
    "\"\"\"\n",
    "Run each agent in this method for parallization.\n",
    "Args:\n",
    "    args: (TpgAgent, envName, scoreList, episodes)\n",
    "\"\"\"\n",
    "def runAgent(args):\n",
    "    agent = args[0]\n",
    "    envName = args[1]\n",
    "    scoreList = args[2]\n",
    "    episodes = args[3] # number of times to repeat game\n",
    "    \n",
    "    # skip if task already done by agent\n",
    "    if agent.taskDone(envName):\n",
    "        print('Agent #' + str(agent.getAgentNum()) + ' can skip.')\n",
    "        scoreList.append((agent.getUid(), agent.getOutcomes()))\n",
    "        return\n",
    "    \n",
    "    env = gym.make(envName)\n",
    "    valActs = range(env.action_space.n) # valid actions, some envs are less\n",
    "    \n",
    "    scoreTotal = 0 # score accumulates over all episodes\n",
    "    for ep in episodes: # episode loop\n",
    "        state = env.reset()\n",
    "        scoreEp = 0\n",
    "        for i in range(1000): # frame loop\n",
    "            act = agent.act(getState(state), valActs=valActs)\n",
    "\n",
    "            # feedback from env\n",
    "            state, reward, isDone, debug = env.step(act)\n",
    "            scoreEp += reward # accumulate reward in score\n",
    "            if isDone:\n",
    "                break # end early if losing state\n",
    "                \n",
    "        print('Agent #' + str(agent.getAgentNum()) + \n",
    "              ' | Ep #' + str(ep) + ' | Score: ' + str(scoreEp))\n",
    "        scoreTotal += scoreEp\n",
    "        \n",
    "    env.close()\n",
    "    agent.reward(scoreTotal)\n",
    "    scoreList.append((agent.getUid(), agent.getOutcomes()))"
   ]
  }
 ],
 "metadata": {
  "kernelspec": {
   "display_name": "Python [conda env:oaigym3]",
   "language": "python",
   "name": "conda-env-oaigym3-py"
  },
  "language_info": {
   "codemirror_mode": {
    "name": "ipython",
    "version": 3
   },
   "file_extension": ".py",
   "mimetype": "text/x-python",
   "name": "python",
   "nbconvert_exporter": "python",
   "pygments_lexer": "ipython3",
   "version": "3.6.6"
  }
 },
 "nbformat": 4,
 "nbformat_minor": 2
}
