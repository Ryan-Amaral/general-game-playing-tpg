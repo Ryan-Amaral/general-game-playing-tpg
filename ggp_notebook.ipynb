{
 "cells": [
  {
   "cell_type": "markdown",
   "metadata": {},
   "source": [
    "# General Game Playing\n",
    "This notebook contains the necessary python for doing General Game Playing with Tangled Program Graphs."
   ]
  },
  {
   "cell_type": "code",
   "execution_count": 1,
   "metadata": {
    "collapsed": true
   },
   "outputs": [],
   "source": [
    "# imports and helper methods\n",
    "from tpg.tpg_trainer import TpgTrainer\n",
    "from tpg.tpg_agent import TpgAgent\n",
    "\n",
    "import gym\n",
    "import gym.spaces\n",
    "\n",
    "import multiprocessing as mp\n",
    "import time\n",
    "\n",
    "\n",
    "\"\"\"\n",
    "inState is row x col x rgba list. This converts it to a 1D list. Because \n",
    "that is what TPG uses.\n",
    "\"\"\"\n",
    "def getState(inState):\n",
    "    outState = []\n",
    "    for row in inState:\n",
    "        for cell in row:\n",
    "            outState.append(cell[0]/8 + cell[1]*4 + cell[2]*128)\n",
    "    \n",
    "    return outState\n",
    "\n",
    "\"\"\"\n",
    "Run each agent in this method for parallization.\n",
    "Args:\n",
    "    args: (TpgAgent, envName, scoreList, episodes)\n",
    "\"\"\"\n",
    "def runAgent(args):\n",
    "    agent = args[0]\n",
    "    envName = args[1]\n",
    "    scoreList = args[2]\n",
    "    episodes = args[3] # number of times to repeat game\n",
    "    \n",
    "    # skip if task already done by agent\n",
    "    if agent.taskDone(envName):\n",
    "        print('Agent #' + str(agent.getAgentNum()) + ' can skip.')\n",
    "        scoreList.append((agent.getUid(), agent.getOutcomes()))\n",
    "        return\n",
    "    \n",
    "    env = gym.make(envName)\n",
    "    valActs = range(env.action_space.n) # valid actions, some envs are less\n",
    "    \n",
    "    scoreTotal = 0 # score accumulates over all episodes\n",
    "    for ep in episodes: # episode loop\n",
    "        state = env.reset()\n",
    "        scoreEp = 0\n",
    "        for i in range(1000): # frame loop\n",
    "            act = agent.act(getState(state), valActs=valActs)\n",
    "\n",
    "            # feedback from env\n",
    "            state, reward, isDone, debug = env.step(act)\n",
    "            scoreEp += reward # accumulate reward in score\n",
    "            if isDone:\n",
    "                break # end early if losing state\n",
    "                \n",
    "        print('Agent #' + str(agent.getAgentNum()) + \n",
    "              ' | Ep #' + str(ep) + ' | Score: ' + str(scoreEp))\n",
    "        scoreTotal += scoreEp\n",
    "        \n",
    "    env.close()\n",
    "    agent.reward(scoreTotal)\n",
    "    scoreList.append((agent.getUid(), agent.getOutcomes()))\n",
    "    \n",
    "# all of the titles we will be general game playing on\n",
    "gymEnvNames = ['Alien-v0','Asteroids-v0','Atlantis-v0','BankHeist-v0',\n",
    "               'BattleZone-v0','Bowling-v0','Boxing-v0','Centipede-v0',\n",
    "               'ChopperCommand-v0','DoubleDunk-v0','FishingDerby-v0',\n",
    "               'Freeway-v0','Frostbite-v0','Gravitar-v0','Hero-v0',\n",
    "               'IceHockey-v0','Jamesbond-v0','Kangaroo-v0','Krull-v0',\n",
    "               'KungFuMaster-v0','MsPacman-v0','PrivateEye-v0',\n",
    "               'RoadRunner-v0','Skiing-v0','Tennis-v0','TimePilot-v0',\n",
    "               'UpNDown-v0','Venture-v0','WizardOfWor-v0','Zaxxon-v0']"
   ]
  },
  {
   "cell_type": "code",
   "execution_count": null,
   "metadata": {
    "collapsed": true
   },
   "outputs": [],
   "source": [
    "trainer = TpgTrainer(actions=range(18))\n",
    "\n",
    "processes = 4\n",
    "man = mp.manager()\n"
   ]
  }
 ],
 "metadata": {
  "kernelspec": {
   "display_name": "Python [conda env:oaigym]",
   "language": "python",
   "name": "conda-env-oaigym-py"
  },
  "language_info": {
   "codemirror_mode": {
    "name": "ipython",
    "version": 3
   },
   "file_extension": ".py",
   "mimetype": "text/x-python",
   "name": "python",
   "nbconvert_exporter": "python",
   "pygments_lexer": "ipython3",
   "version": "3.6.4"
  }
 },
 "nbformat": 4,
 "nbformat_minor": 2
}
